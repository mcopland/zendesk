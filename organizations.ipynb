{
 "cells": [
  {
   "cell_type": "code",
   "execution_count": 1,
   "id": "a77f4399-bad4-474a-ade1-0b4b60289ce3",
   "metadata": {},
   "outputs": [],
   "source": [
    "import pandas as pd"
   ]
  },
  {
   "cell_type": "code",
   "execution_count": 2,
   "id": "b4d8b9a2-216e-449f-8cdb-750af3aa1b14",
   "metadata": {},
   "outputs": [],
   "source": [
    "# Create dataframe from CSV file\n",
    "df = pd.read_csv('sheets/organizations.csv', na_filter=False)"
   ]
  },
  {
   "cell_type": "code",
   "execution_count": 3,
   "id": "b911dd28-adb7-4910-af15-0fb8a3baf7d3",
   "metadata": {},
   "outputs": [],
   "source": [
    "# Rename columns to map to Zendesk fields\n",
    "df = df.rename(columns={'id': 'external_id'})"
   ]
  },
  {
   "cell_type": "code",
   "execution_count": 4,
   "id": "2c4b60bf-3935-46dd-a03b-bf600be94389",
   "metadata": {
    "tags": []
   },
   "outputs": [
    {
     "name": "stdout",
     "output_type": "stream",
     "text": [
      "'external_id' is unique:      True\n",
      "'name' is unique:             True\n"
     ]
    }
   ],
   "source": [
    "# Ensure required columns are unique\n",
    "print('{:<30}{}'.format(\"\\'external_id\\' is unique:\", df['external_id'].is_unique))\n",
    "print('{:<30}{}'.format(\"\\'name\\' is unique:\", df['name'].is_unique))"
   ]
  },
  {
   "cell_type": "code",
   "execution_count": 5,
   "id": "6c6dcb5c-55ef-40a9-a268-c9dd52766666",
   "metadata": {},
   "outputs": [],
   "source": [
    "# Assign values to new 'organization_fields' column\n",
    "new_col = [{'merchant_id': df['merchant_id'][i]} for i in range(len(df))]\n",
    "# Add new column to dataframe\n",
    "df['organization_fields'] = new_col"
   ]
  },
  {
   "cell_type": "code",
   "execution_count": 6,
   "id": "2eb9309c-79a5-4d82-9126-ed042636d9ee",
   "metadata": {},
   "outputs": [],
   "source": [
    "# Remove unnecessary 'merchant_id' column\n",
    "del df['merchant_id']"
   ]
  },
  {
   "cell_type": "code",
   "execution_count": 7,
   "id": "ae37316e-4ec1-432c-a22b-536e780fd438",
   "metadata": {},
   "outputs": [],
   "source": [
    "# Convert 'external_id' column to string to match required input\n",
    "df['external_id'] = df['external_id'].apply(str)"
   ]
  },
  {
   "cell_type": "code",
   "execution_count": 8,
   "id": "7ba1c28c-b726-4c04-b888-aa7df8703834",
   "metadata": {},
   "outputs": [],
   "source": [
    "# Transform 'domain_names' and 'tags' into a list of strings\n",
    "def str_to_list(row, col) -> list:\n",
    "    if isinstance(row[col], str):\n",
    "        if len(row[col]) < 3:\n",
    "            return ['mcopland'] if col == 'tags' else []\n",
    "        else:\n",
    "            # Split string into list of strings\n",
    "            new_list = row[col][1:-1].split(', ')\n",
    "            # Remove unnecessary characters\n",
    "            for i, entry in enumerate(new_list):\n",
    "                if entry[1] == '(' and entry[-2] == ')':\n",
    "                    # Strip single quotes and parentheses\n",
    "                    new_list[i] = entry[2:-2]\n",
    "                else:\n",
    "                    # Strip single quotes only\n",
    "                    new_list[i] = entry[1:-1]\n",
    "            if col == 'tags':\n",
    "                # Tag all organizations with my name so that they can be easily located later\n",
    "                new_list.append('mcopland')\n",
    "            return new_list\n",
    "    # Default return\n",
    "    return row[col]\n",
    "            \n",
    "df['domain_names'] = df.apply(lambda row: str_to_list(row, 'domain_names'), axis=1)\n",
    "df['tags'] = df.apply(lambda row: str_to_list(row, 'tags'), axis=1)"
   ]
  },
  {
   "cell_type": "code",
   "execution_count": 9,
   "id": "0cea6ed8-51ae-4ead-84c1-ac859892d015",
   "metadata": {
    "tags": []
   },
   "outputs": [
    {
     "name": "stdout",
     "output_type": "stream",
     "text": [
      "<class 'pandas.core.frame.DataFrame'>\n",
      "RangeIndex: 125 entries, 0 to 124\n",
      "Data columns (total 7 columns):\n",
      " #   Column               Non-Null Count  Dtype \n",
      "---  ------               --------------  ----- \n",
      " 0   external_id          125 non-null    object\n",
      " 1   name                 125 non-null    object\n",
      " 2   domain_names         125 non-null    object\n",
      " 3   details              125 non-null    object\n",
      " 4   notes                125 non-null    object\n",
      " 5   tags                 125 non-null    object\n",
      " 6   organization_fields  125 non-null    object\n",
      "dtypes: object(7)\n",
      "memory usage: 7.0+ KB\n"
     ]
    },
    {
     "data": {
      "text/html": [
       "<div>\n",
       "<style scoped>\n",
       "    .dataframe tbody tr th:only-of-type {\n",
       "        vertical-align: middle;\n",
       "    }\n",
       "\n",
       "    .dataframe tbody tr th {\n",
       "        vertical-align: top;\n",
       "    }\n",
       "\n",
       "    .dataframe thead th {\n",
       "        text-align: right;\n",
       "    }\n",
       "</style>\n",
       "<table border=\"1\" class=\"dataframe\">\n",
       "  <thead>\n",
       "    <tr style=\"text-align: right;\">\n",
       "      <th></th>\n",
       "      <th>external_id</th>\n",
       "      <th>name</th>\n",
       "      <th>domain_names</th>\n",
       "      <th>details</th>\n",
       "      <th>notes</th>\n",
       "      <th>tags</th>\n",
       "      <th>organization_fields</th>\n",
       "    </tr>\n",
       "  </thead>\n",
       "  <tbody>\n",
       "    <tr>\n",
       "      <th>0</th>\n",
       "      <td>15976972608</td>\n",
       "      <td>1,000 Bulbs</td>\n",
       "      <td>[1000bulbs.com, protonmail.com]</td>\n",
       "      <td></td>\n",
       "      <td></td>\n",
       "      <td>[mcopland]</td>\n",
       "      <td>{'merchant_id': 'apac'}</td>\n",
       "    </tr>\n",
       "    <tr>\n",
       "      <th>1</th>\n",
       "      <td>15976972628</td>\n",
       "      <td>1-800-Flowers.Com Inc</td>\n",
       "      <td>[]</td>\n",
       "      <td></td>\n",
       "      <td>Hello\\nthis is a new line\\nand another</td>\n",
       "      <td>[mcopland]</td>\n",
       "      <td>{'merchant_id': 'amer'}</td>\n",
       "    </tr>\n",
       "    <tr>\n",
       "      <th>2</th>\n",
       "      <td>15976972648</td>\n",
       "      <td>1-Stop Connections</td>\n",
       "      <td>[1-stop.biz]</td>\n",
       "      <td></td>\n",
       "      <td></td>\n",
       "      <td>[mcopland]</td>\n",
       "      <td>{'merchant_id': 'latam'}</td>\n",
       "    </tr>\n",
       "    <tr>\n",
       "      <th>3</th>\n",
       "      <td>3535325388</td>\n",
       "      <td>1077207-Moneygram International</td>\n",
       "      <td>[]</td>\n",
       "      <td></td>\n",
       "      <td></td>\n",
       "      <td>[mcopland]</td>\n",
       "      <td>{'merchant_id': 'emea'}</td>\n",
       "    </tr>\n",
       "    <tr>\n",
       "      <th>4</th>\n",
       "      <td>360041750613</td>\n",
       "      <td>123456789</td>\n",
       "      <td>[]</td>\n",
       "      <td></td>\n",
       "      <td></td>\n",
       "      <td>[mcopland]</td>\n",
       "      <td>{'merchant_id': 'amer'}</td>\n",
       "    </tr>\n",
       "  </tbody>\n",
       "</table>\n",
       "</div>"
      ],
      "text/plain": [
       "    external_id                             name  \\\n",
       "0   15976972608                      1,000 Bulbs   \n",
       "1   15976972628            1-800-Flowers.Com Inc   \n",
       "2   15976972648               1-Stop Connections   \n",
       "3    3535325388  1077207-Moneygram International   \n",
       "4  360041750613                        123456789   \n",
       "\n",
       "                      domain_names details  \\\n",
       "0  [1000bulbs.com, protonmail.com]           \n",
       "1                               []           \n",
       "2                     [1-stop.biz]           \n",
       "3                               []           \n",
       "4                               []           \n",
       "\n",
       "                                    notes        tags  \\\n",
       "0                                          [mcopland]   \n",
       "1  Hello\\nthis is a new line\\nand another  [mcopland]   \n",
       "2                                          [mcopland]   \n",
       "3                                          [mcopland]   \n",
       "4                                          [mcopland]   \n",
       "\n",
       "        organization_fields  \n",
       "0   {'merchant_id': 'apac'}  \n",
       "1   {'merchant_id': 'amer'}  \n",
       "2  {'merchant_id': 'latam'}  \n",
       "3   {'merchant_id': 'emea'}  \n",
       "4   {'merchant_id': 'amer'}  "
      ]
     },
     "execution_count": 9,
     "metadata": {},
     "output_type": "execute_result"
    }
   ],
   "source": [
    "# View dataframe information\n",
    "df.info()\n",
    "df.head()"
   ]
  },
  {
   "cell_type": "code",
   "execution_count": 10,
   "id": "2f65cc6e-74ff-44a4-b57b-c3d13c1590ba",
   "metadata": {},
   "outputs": [
    {
     "name": "stdout",
     "output_type": "stream",
     "text": [
      "2\n"
     ]
    }
   ],
   "source": [
    "# Split df into chunks of 100 for batch import\n",
    "n = 100\n",
    "chunks = [df[i:i+n] for i in range(0, df.shape[0], n)]\n",
    "print(len(chunks))"
   ]
  },
  {
   "cell_type": "code",
   "execution_count": 11,
   "id": "8e1095f9-a6fe-4ea8-b09d-52c2f8fa977b",
   "metadata": {},
   "outputs": [],
   "source": [
    "# Export to JSON file\n",
    "for i in range(len(chunks)):\n",
    "    filename = f'./organizations_{i}.json'\n",
    "    # records : list [{column -> value}, ... , {column -> value}]\n",
    "    chunks[i].to_json(filename, orient='records')"
   ]
  }
 ],
 "metadata": {
  "kernelspec": {
   "display_name": "Python 3",
   "language": "python",
   "name": "python3"
  },
  "language_info": {
   "codemirror_mode": {
    "name": "ipython",
    "version": 3
   },
   "file_extension": ".py",
   "mimetype": "text/x-python",
   "name": "python",
   "nbconvert_exporter": "python",
   "pygments_lexer": "ipython3",
   "version": "3.8.8"
  }
 },
 "nbformat": 4,
 "nbformat_minor": 5
}
